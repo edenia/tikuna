{
 "cells": [
  {
   "cell_type": "markdown",
   "id": "ba979f32-67fc-4dc5-a71b-be84043a87b9",
   "metadata": {},
   "source": [
    "# Finetuning\n",
    "# Malicious Smart Contract Detection Training Dataset Collection Notebook\n",
    "\n",
    "This notebook collects smart contract creation bytecode and decompiled opcodes for malicious contract classification. \n",
    "Benign contracts are gathered from blockchain explorers and malicious contracts from [Forta Network's labelled datasets github repo](\"https://github.com/forta-network/labelled-datasets\").\n",
    "\n",
    "# Code provided by the Forta project"
   ]
  },
  {
   "cell_type": "code",
   "execution_count": null,
   "id": "599dd826-f2b4-416c-b256-8eef021287a9",
   "metadata": {},
   "outputs": [],
   "source": [
    "import logging\n",
    "import pickle\n",
    "import os\n",
    "import time\n",
    "\n",
    "from evmdasm import EvmBytecode\n",
    "import pandas as pd\n",
    "from tqdm import tqdm\n",
    "import requests\n",
    "\n",
    "tqdm.pandas()\n",
    "# disable warning logs from evmdasm tool\n",
    "logging.getLogger(\"evmdasm\").setLevel(logging.CRITICAL)\n",
    "\n",
    "blockchains = [\"ethereum\", \"polygon\", \"bsc\"]\n",
    "current_blockchain = \"ethereum\"\n",
    "\n",
    "ZETTABLOCK_API_KEY = \"XXXXXXXXXXXXXXXXXXXXXXXXXXXXXXXXXXXXXXXXXXX\"\n",
    "ZETTABLOCK_URL = \"https://api.zettablock.com/api/v1/databases/realtimeDB/queries\"\n",
    "EXECUTE_URL = \"https://api.zettablock.com/api/v1/queries/\"\n",
    "\n",
    "headers = {\n",
    "    \"accept\": \"application/json\",\n",
    "    \"X-API-KEY\": ZETTABLOCK_API_KEY,\n",
    "    \"content-type\": \"application/json\"\n",
    "}\n",
    "\n",
    "TRACES = {}\n",
    "CONTRACT_DATA = {}"
   ]
  },
  {
   "cell_type": "code",
   "execution_count": null,
   "id": "b1c50fb7",
   "metadata": {},
   "outputs": [],
   "source": [
    "def get_verified_smart_contracts():\n",
    "    verified_smart_contracts = {}\n",
    "    # 5k verified SCs Downloaded from https://etherscan.io/exportData?type=open-source-contract-codes\n",
    "    verified_smart_contracts[\"ethereum\"] = pd.read_csv(\"/data/forta/ethereum/text/pretraining/raw/ethereum-verified.csv\")\n",
    "    # 5k verified SCs Downloaded from https://polygonscan.com/exportData?type=open-source-contract-codes\n",
    "    verified_smart_contracts[\"polygon\"] = pd.read_csv(\"/data/forta/ethereum/text/pretraining/raw/polygon-verified.csv\")\n",
    "    # 5k verified SCs Downloaded from https://bscscan.com/exportData?type=open-source-contract-codes\n",
    "    verified_smart_contracts[\"bsc\"] = pd.read_csv(\"/data/forta/ethereum/text/pretraining/raw/bsc-verified.csv\")\n",
    "    return verified_smart_contracts"
   ]
  },
  {
   "cell_type": "code",
   "execution_count": null,
   "id": "8c8b2912",
   "metadata": {},
   "outputs": [],
   "source": [
    "def get_contract_bytecode(contract):\n",
    "    try:\n",
    "        contract_bytecode = get_contract_data_from_zettablock_API(contract[\"contract_address\"], current_blockchain)\n",
    "        return contract_bytecode\n",
    "    except Exception as e:\n",
    "        print(e)\n",
    "        return []\n",
    "\n",
    "def get_contract_data_from_zettablock_API(contract, blockchain):\n",
    "    # Connect to Zettablock API\n",
    "    # Its free version only allows 1 request per second\n",
    "    time.sleep(1)\n",
    "    payload = {\"query\": \"SELECT bytecode FROM %s_mainnet.contract_creations WHERE address = '%s'\" % (blockchain, contract)}\n",
    "    response = requests.post(ZETTABLOCK_URL, json=payload, headers=headers)\n",
    "    id = response.json()['id']\n",
    "    response = requests.post(EXECUTE_URL+id+\"/execute?includeColumnName=false&includeMetadata=false\",\n",
    "               headers=headers)\n",
    "    return response.text"
   ]
  },
  {
   "cell_type": "code",
   "execution_count": null,
   "id": "73efe3ca-4665-4b2d-aff3-3a4ce62b1e62",
   "metadata": {},
   "outputs": [],
   "source": [
    "def get_opcodes(creation_bytecode) -> str:\n",
    "    bytecode = creation_bytecode\n",
    "    if bytecode is None:\n",
    "        return ''\n",
    "    try:\n",
    "        opcodes = EvmBytecode(bytecode).disassemble()\n",
    "    except Exception:\n",
    "        return ''\n",
    "    \n",
    "    return \" \".join([str(op).strip() for op in opcodes])"
   ]
  },
  {
   "cell_type": "code",
   "execution_count": null,
   "id": "68da4aaa-3f99-4c66-a13f-2455365326e6",
   "metadata": {},
   "outputs": [],
   "source": [
    "def get_malicious_contracts() -> pd.DataFrame:\n",
    "    data_path = '/data/forta/ethereum/text/pretraining/raw/malicious-data.pkl'\n",
    "    malicious = None\n",
    "\n",
    "    if os.path.exists(data_path):\n",
    "        with open(data_path, \"rb\") as data_file:\n",
    "            malicious = pickle.load(data_file)\n",
    "    else:\n",
    "        \"\"\"Collects malicious contracts from Forta's labelled dataset github repo and its decompiled opcodes.\"\"\"\n",
    "        # csv from https://github.com/forta-network/labelled-datasets\n",
    "        github_url = 'https://raw.githubusercontent.com/forta-network/labelled-datasets/main/labels/1/malicious_smart_contracts.csv'\n",
    "        malicious = pd.read_csv(github_url)\n",
    "        # exclude phishing hack related contracts\n",
    "        malicious = malicious[malicious['contract_creator_etherscan_label'] != 'phish-hack']\n",
    "        malicious['creation_bytecode'] = malicious.progress_apply(get_contract_bytecode, axis=1)\n",
    "        malicious['decompiled_opcodes'] = malicious['creation_bytecode'].progress_apply(get_opcodes)\n",
    "        # Store data so we don't have to download it all the time\n",
    "        malicious.to_pickle(data_path)\n",
    "    return malicious"
   ]
  },
  {
   "cell_type": "code",
   "execution_count": null,
   "id": "a7cccb91-ceb9-4e98-bddf-3b59e3b6aca7",
   "metadata": {},
   "outputs": [],
   "source": [
    "def get_benign_contracts() -> pd.DataFrame:\n",
    "    global current_blockchain\n",
    "    data_path = '/data/forta/ethereum/text/pretraining/raw/benign-data.pkl'\n",
    "    benign = None\n",
    "\n",
    "    if os.path.exists(data_path):\n",
    "        with open(data_path, \"rb\") as data_file:\n",
    "            benign = pickle.load(data_file)\n",
    "    else:\n",
    "        \"\"\"Collects verified and mev contracts and its decompiled opcodes.\"\"\"\n",
    "        benign = get_verified_smart_contracts()\n",
    "        for blockchain in blockchains:\n",
    "            current_blockchain = blockchain\n",
    "            benign[blockchain]['contract_address'] = benign[blockchain]['contract_address'].progress_apply(str.lower)\n",
    "            benign[blockchain]['creation_bytecode'] = benign[blockchain].progress_apply(get_contract_bytecode, axis=1)\n",
    "        begign = pd.DataFrame(pd.concat([benign[\"ethereum\"], benign[\"polygon\"], benign[\"bsc\"]]))\n",
    "        benign = begign.reset_index(drop=True)\n",
    "        benign['decompiled_opcodes'] = benign['creation_bytecode'].progress_apply(get_opcodes)\n",
    "        # Store data so we don't have to download it all the time\n",
    "        benign.to_pickle(data_path)\n",
    "    return benign"
   ]
  },
  {
   "cell_type": "code",
   "execution_count": null,
   "id": "4989a28b-5a48-4679-a758-05e2dc311980",
   "metadata": {},
   "outputs": [],
   "source": [
    "malicious_contracts = get_malicious_contracts()\n",
    "malicious_contracts['malicious'] = True"
   ]
  },
  {
   "cell_type": "code",
   "execution_count": null,
   "id": "b49b5e20-6ba6-43c3-bc01-7f68222e4e44",
   "metadata": {
    "tags": []
   },
   "outputs": [],
   "source": [
    "benign_contracts = get_benign_contracts()\n",
    "benign_contracts['malicious'] = False"
   ]
  },
  {
   "cell_type": "code",
   "execution_count": null,
   "id": "2e5af9c0-f1cb-4f9b-980c-f283ee5955a7",
   "metadata": {},
   "outputs": [],
   "source": [
    "dataset = pd.concat([malicious_contracts, benign_contracts])"
   ]
  },
  {
   "cell_type": "code",
   "execution_count": null,
   "id": "ae55d525-60f5-4950-a618-52f207e92bcb",
   "metadata": {},
   "outputs": [],
   "source": [
    "dataset = dataset[(dataset['decompiled_opcodes'].notna()) & (dataset['decompiled_opcodes'] != '')]\n",
    "dataset.drop_duplicates('contract_address', inplace=True)"
   ]
  },
  {
   "cell_type": "code",
   "execution_count": null,
   "id": "b8543d1a-7357-4d6d-b04f-545fcaad1077",
   "metadata": {},
   "outputs": [],
   "source": [
    "dataset['malicious'].value_counts()"
   ]
  },
  {
   "cell_type": "code",
   "execution_count": null,
   "id": "c0e1aa2c-2ac2-44ff-9555-db44d2b89212",
   "metadata": {},
   "outputs": [],
   "source": [
    "dataset.fillna('').to_parquet('/data/forta/ethereum/text/pretraining/raw/verified-smart-contracts.parquet', index=None)"
   ]
  },
  {
   "cell_type": "code",
   "execution_count": null,
   "id": "95e97dd0-067d-4c5b-af24-962e3557f764",
   "metadata": {},
   "outputs": [],
   "source": [
    "dataset['malicious'].value_counts().plot(kind='pie', figsize=(7, 7))"
   ]
  },
  {
   "cell_type": "code",
   "execution_count": null,
   "id": "190d2967-93d9-4ecc-910d-77a29a40a340",
   "metadata": {},
   "outputs": [],
   "source": []
  }
 ],
 "metadata": {
  "kernelspec": {
   "display_name": "Python 3 (ipykernel)",
   "language": "python",
   "name": "python3"
  },
  "language_info": {
   "codemirror_mode": {
    "name": "ipython",
    "version": 3
   },
   "file_extension": ".py",
   "mimetype": "text/x-python",
   "name": "python",
   "nbconvert_exporter": "python",
   "pygments_lexer": "ipython3",
   "version": "3.9.18"
  }
 },
 "nbformat": 4,
 "nbformat_minor": 5
}
