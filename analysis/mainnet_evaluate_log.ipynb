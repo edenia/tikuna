{
 "cells": [
  {
   "cell_type": "code",
   "execution_count": null,
   "id": "7bb4fcf8",
   "metadata": {},
   "outputs": [],
   "source": [
    "import sys\n",
    "sys.path.append(\"../\")\n",
    "import argparse\n",
    "import pandas as pd\n",
    "from torch.utils.data import DataLoader\n",
    "from tikuna.models import LSTM\n",
    "from tikuna.common.preprocess import FeatureExtractor\n",
    "from tikuna.common.dataloader import load_sessions, log_dataset\n",
    "from tikuna.common.utils import seed_everything, dump_final_results, dump_params, load_params"
   ]
  },
  {
   "cell_type": "code",
   "execution_count": null,
   "id": "82b0e0c8",
   "metadata": {},
   "outputs": [],
   "source": [
    "NORMAL_LOG_DATA=\"/home/tikuna/app/data/mainnet/normal/log/normal.log\"\n",
    "ECLIPSE_LOG_DATA=\"/home/tikuna/app/data/mainnet/eclipse-single/log/eclipse.log\""
   ]
  },
  {
   "cell_type": "code",
   "execution_count": null,
   "id": "c3005a9b",
   "metadata": {},
   "outputs": [],
   "source": [
    "abnormal_data = pd.read_csv(ECLIPSE_LOG_DATA,\n",
    "                         sep = '\\s+',\n",
    "                         names=[\"Timestamp\", \"Removed IP\", \"Removed Port\",\n",
    "                                \"Added IP\", \"Added Port\", \"Bucket\", \"label\"])\n",
    "display(abnormal_data)\n",
    "abnormal_data['Timestamp'] = pd.to_datetime(abnormal_data['Timestamp'],\n",
    "                                          format='[%Y-%m-%d|%H:%M:%S.%f]')\n",
    "evaluation_data = {}\n",
    "\n",
    "evaluation_data[\"features\"] = abnormal_data.iloc[:, 1:6]\n",
    "evaluation_data[\"label\"] = abnormal_data.iloc[:, [6]].replace(\"abnormal\", 1)\n",
    "evaluation_data[\"type\"] = \"testing\""
   ]
  },
  {
   "cell_type": "code",
   "execution_count": null,
   "id": "40f417bd",
   "metadata": {},
   "outputs": [],
   "source": [
    "params, meta_data = load_params(\"current\")\n",
    "params[\"cache\"] = True\n",
    "\n",
    "seed_everything(params[\"random_seed\"])\n",
    "\n",
    "ext = FeatureExtractor(**params)\n",
    "\n",
    "session_test = ext.fit_transform(evaluation_data, datatype=\"test\")\n",
    "dataset_test = log_dataset(session_test, feature_type=params[\"feature_type\"])\n",
    "dataloader_test = DataLoader(\n",
    "    dataset_test, batch_size=100, shuffle=False, pin_memory=True\n",
    ")\n",
    "\n",
    "model_save_path = dump_params(params, meta_data)\n",
    "model = LSTM(meta_data=meta_data, model_save_path=model_save_path, **params)\n",
    "model.label_type = \"anomaly\"\n",
    "final_test_results = model.evaluate(\n",
    "    dataloader_test,\n",
    "    dtype=\"evaluate\"\n",
    ")"
   ]
  },
  {
   "cell_type": "code",
   "execution_count": null,
   "id": "01f1effc",
   "metadata": {},
   "outputs": [],
   "source": []
  }
 ],
 "metadata": {
  "kernelspec": {
   "display_name": "Python 3 (ipykernel)",
   "language": "python",
   "name": "python3"
  },
  "language_info": {
   "codemirror_mode": {
    "name": "ipython",
    "version": 3
   },
   "file_extension": ".py",
   "mimetype": "text/x-python",
   "name": "python",
   "nbconvert_exporter": "python",
   "pygments_lexer": "ipython3",
   "version": "3.8.13"
  }
 },
 "nbformat": 4,
 "nbformat_minor": 5
}
