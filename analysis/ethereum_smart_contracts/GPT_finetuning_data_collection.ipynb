{
 "cells": [
  {
   "cell_type": "markdown",
   "id": "ba979f32-67fc-4dc5-a71b-be84043a87b9",
   "metadata": {},
   "source": [
    "# Finetuning\n",
    "# Malicious Smart Contract Detection Training Dataset Collection Notebook\n",
    "\n",
    "This notebook collects smart contract creation bytecode and decompiled opcodes for malicious contract classification. \n",
    "Benign contracts are gathered from blockchain explorers and malicious contracts from [Forta Network's labelled datasets github repo](\"https://github.com/forta-network/labelled-datasets\").\n",
    "\n",
    "Code provided by the Forta project"
   ]
  },
  {
   "cell_type": "code",
   "execution_count": null,
   "id": "599dd826-f2b4-416c-b256-8eef021287a9",
   "metadata": {},
   "outputs": [],
   "source": [
    "import logging\n",
    "import pickle\n",
    "import os\n",
    "import time\n",
    "import json\n",
    "\n",
    "from evmdasm import EvmBytecode\n",
    "import pandas as pd\n",
    "from tqdm import tqdm\n",
    "import requests\n",
    "\n",
    "tqdm.pandas()\n",
    "# disable warning logs from evmdasm tool\n",
    "logging.getLogger(\"evmdasm\").setLevel(logging.CRITICAL)\n",
    "\n",
    "blockchains = [\"ethereum\", \"polygon\", \"bsc\"]\n",
    "current_blockchain = \"ethereum\"\n",
    "\n",
    "ZETTABLOCK_API_KEY = \"519a0243-0add-4593-9adf-85c6a6a5ef22\"\n",
    "ZETTABLOCK_URL = \"https://api.zettablock.com/api/v1/databases/realtimeDB/queries\"\n",
    "ZETTABLOCK_DATA_LAKE_ENDPOINT = \"https://api.zettablock.com/api/v1/databases/AwsDataCatalog/queries\"\n",
    "EXECUTE_URL = \"https://api.zettablock.com/api/v1/queries/\"\n",
    "\n",
    "headers = {\n",
    "    \"accept\": \"application/json\",\n",
    "    \"X-API-KEY\": ZETTABLOCK_API_KEY,\n",
    "    \"content-type\": \"application/json\"\n",
    "}\n",
    "\n",
    "TRACES = {}\n",
    "CONTRACT_DATA = {}"
   ]
  },
  {
   "cell_type": "code",
   "execution_count": null,
   "id": "b1c50fb7",
   "metadata": {},
   "outputs": [],
   "source": [
    "def get_verified_smart_contracts():\n",
    "    verified_smart_contracts = {}\n",
    "    # 5k verified SCs Downloaded from https://etherscan.io/exportData?type=open-source-contract-codes\n",
    "    verified_smart_contracts[\"ethereum\"] = pd.read_csv(\"/data/forta/ethereum/text/pretraining/raw/verified/ethereum-verified.csv\")\n",
    "    # 5k verified SCs Downloaded from https://polygonscan.com/exportData?type=open-source-contract-codes\n",
    "    verified_smart_contracts[\"polygon\"] = pd.read_csv(\"/data/forta/ethereum/text/pretraining/raw/verified/polygon-verified.csv\")\n",
    "    # 5k verified SCs Downloaded from https://bscscan.com/exportData?type=open-source-contract-codes\n",
    "    verified_smart_contracts[\"bsc\"] = pd.read_csv(\"/data/forta/ethereum/text/pretraining/raw/verified/bsc-verified.csv\")\n",
    "    return verified_smart_contracts\n",
    "\n",
    "def get_verified_malicious_smart_contracts():\n",
    "    \"\"\"Collects malicious contracts from Forta's labelled dataset github repo and its decompiled opcodes.\"\"\"\n",
    "    # csv from https://github.com/forta-network/labelled-datasets (Only Ethereum)\n",
    "    # github_url = 'https://raw.githubusercontent.com/forta-network/labelled-datasets/main/labels/1/malicious_smart_contracts.csv'\n",
    "    # malicious = pd.read_csv(github_url)\n",
    "    # The other blockchain data apart from Ethereum was collected by Sakundi\n",
    "    malicious_smart_contracts = {}\n",
    "    malicious_smart_contracts[\"ethereum\"] = pd.read_csv(\"/data/forta/ethereum/text/pretraining/raw/verified/ethereum-malicious.csv\")\n",
    "    malicious_smart_contracts[\"polygon\"] = pd.read_csv(\"/data/forta/ethereum/text/pretraining/raw/verified/polygon-malicious.csv\")\n",
    "    malicious_smart_contracts[\"bsc\"] = pd.read_csv(\"/data/forta/ethereum/text/pretraining/raw/verified/bsc-malicious.csv\")\n",
    "    return malicious_smart_contracts"
   ]
  },
  {
   "cell_type": "code",
   "execution_count": null,
   "id": "8c8b2912",
   "metadata": {},
   "outputs": [],
   "source": [
    "def get_contract_bytecode(contract):\n",
    "    try:\n",
    "        query_text = (\"SELECT bytecode FROM %s_mainnet.contract_creations WHERE address = '%s' LIMIT 1\"\n",
    "                     % (current_blockchain, contract[\"contract_address\"]))\n",
    "        contract_bytecode = call_zettablock_api(query_text, current_blockchain)\n",
    "        if contract_bytecode is not None:\n",
    "            return contract_bytecode\n",
    "        else:\n",
    "            return \"\"\n",
    "    except Exception as e:\n",
    "        print(e)\n",
    "        return []\n",
    "\n",
    "# Code taken from Zettablock tutorials\n",
    "# check response until success or failed is returned\n",
    "def get_response(queryrun_id):\n",
    "\timport time\n",
    "\ti = 1\n",
    "\tqueryrun_status_endpoint = f'https://api.zettablock.com/api/v1/queryruns/{queryrun_id}/status'\n",
    "\twhile True:\n",
    "\t\tres = requests.get(queryrun_status_endpoint, headers=headers)\n",
    "\t\tstate = json.loads(res.text)['state']\n",
    "\t\tif state == 'SUCCEEDED' or state == 'FAILED':\n",
    "\t\t\treturn state\n",
    "\t\ttime.sleep(i)\n",
    "\t\ti += 1\n",
    "\n",
    "def call_zettablock_api(query_text, blockchain):\n",
    "    # Get Smart Contract Data from Zettablock for several blockchains\n",
    "    query = {\"query\": query_text, \"resultCacheExpireMillis\": 86400000}\n",
    "    \n",
    "    # Create a query with SQL statement, and get query id\n",
    "    res = requests.post(ZETTABLOCK_DATA_LAKE_ENDPOINT, headers=headers, data=json.dumps(query))    \n",
    "    # Trigger the query by query id, and get queryrun id\n",
    "    query_id = res.json()['id']\n",
    "    data_lake_submission_endpoints = f'https://api.zettablock.com/api/v1/queries/{query_id}/trigger'\n",
    "    res = requests.post(data_lake_submission_endpoints, headers=headers, data='{}')\n",
    "    \n",
    "    # Check status using queryrun id\n",
    "    queryrun_id = res.json()['queryrunId']\n",
    "    \n",
    "    if get_response(queryrun_id) == 'SUCCEEDED':\n",
    "        # Fetch result from queryrun id\n",
    "        params = {'includeColumnName': 'true'}\n",
    "        queryrun_result_endpoint = f'https://api.zettablock.com/api/v1/stream/queryruns/{queryrun_id}/result'\n",
    "        # if the result is huge, consider using stream and write to a file\n",
    "        resp = requests.get(queryrun_result_endpoint, stream=False, headers=headers, params=params)\n",
    "        lines = resp.text.split(\"\\n\")\n",
    "        data = lines[1]\n",
    "        return data\n",
    "    else:\n",
    "        print('query failed, please check status message for details')\n",
    "        print(res.json())\n",
    "        return None"
   ]
  },
  {
   "cell_type": "code",
   "execution_count": null,
   "id": "73efe3ca-4665-4b2d-aff3-3a4ce62b1e62",
   "metadata": {},
   "outputs": [],
   "source": [
    "def get_opcodes(creation_bytecode) -> str:\n",
    "    bytecode = creation_bytecode\n",
    "    if bytecode is None:\n",
    "        return ''\n",
    "    try:\n",
    "        opcodes = EvmBytecode(bytecode).disassemble()\n",
    "    except Exception:\n",
    "        return ''\n",
    "    \n",
    "    return \" \".join([str(op).strip() for op in opcodes])"
   ]
  },
  {
   "cell_type": "code",
   "execution_count": null,
   "id": "68da4aaa-3f99-4c66-a13f-2455365326e6",
   "metadata": {},
   "outputs": [],
   "source": [
    "def get_malicious_contracts() -> pd.DataFrame:\n",
    "    data_path = '/data/forta/ethereum/text/pretraining/raw/verified/malicious-data.pkl'\n",
    "    malicious = None\n",
    "\n",
    "    if os.path.exists(data_path):\n",
    "        with open(data_path, \"rb\") as data_file:\n",
    "            malicious = pickle.load(data_file)\n",
    "    else:\n",
    "        malicious = get_verified_malicious_smart_contracts()\n",
    "        for blockchain in blockchains:\n",
    "            current_blockchain = blockchain\n",
    "            if blockchain == \"ethereum\":\n",
    "                # exclude phishing hack related contracts\n",
    "                malicious[blockchain] = malicious[blockchain][malicious[blockchain]['contract_creator_etherscan_label'] != 'phish-hack']\n",
    "            malicious[blockchain]['contract_address'] = malicious[blockchain]['contract_address'].progress_apply(str.lower)\n",
    "            malicious[blockchain]['creation_bytecode'] = malicious[blockchain].progress_apply(get_contract_bytecode, axis=1)\n",
    "        malicious = pd.DataFrame(pd.concat([malicious[\"ethereum\"], malicious[\"polygon\"], malicious[\"bsc\"]]))\n",
    "        malicious['decompiled_opcodes'] = malicious['creation_bytecode'].progress_apply(get_opcodes)\n",
    "        # Store data so we don't have to download it all the time\n",
    "        malicious.to_pickle(data_path)\n",
    "    return malicious"
   ]
  },
  {
   "cell_type": "code",
   "execution_count": null,
   "id": "a7cccb91-ceb9-4e98-bddf-3b59e3b6aca7",
   "metadata": {},
   "outputs": [],
   "source": [
    "def get_benign_contracts() -> pd.DataFrame:\n",
    "    global current_blockchain\n",
    "    data_path = '/data/forta/ethereum/text/pretraining/raw/verified/benign-data.pkl'\n",
    "    benign = None\n",
    "\n",
    "    if os.path.exists(data_path):\n",
    "        with open(data_path, \"rb\") as data_file:\n",
    "            benign = pickle.load(data_file)\n",
    "    else:\n",
    "        \"\"\"Collects verified and mev contracts and its decompiled opcodes.\"\"\"\n",
    "        benign = get_verified_smart_contracts()\n",
    "        for blockchain in blockchains:\n",
    "            current_blockchain = blockchain\n",
    "            benign[blockchain]['contract_address'] = benign[blockchain]['contract_address'].progress_apply(str.lower)\n",
    "            benign[blockchain]['creation_bytecode'] = benign[blockchain].progress_apply(get_contract_bytecode, axis=1)\n",
    "        begign = pd.DataFrame(pd.concat([benign[\"ethereum\"], benign[\"polygon\"], benign[\"bsc\"]]))\n",
    "        benign = begign.reset_index(drop=True)\n",
    "        benign['decompiled_opcodes'] = benign['creation_bytecode'].progress_apply(get_opcodes)\n",
    "        # Store data so we don't have to download it all the time\n",
    "        benign.to_pickle(data_path)\n",
    "    return benign"
   ]
  },
  {
   "cell_type": "code",
   "execution_count": null,
   "id": "4989a28b-5a48-4679-a758-05e2dc311980",
   "metadata": {},
   "outputs": [],
   "source": [
    "malicious_contracts = get_malicious_contracts()\n",
    "malicious_contracts['malicious'] = True"
   ]
  },
  {
   "cell_type": "code",
   "execution_count": null,
   "id": "b49b5e20-6ba6-43c3-bc01-7f68222e4e44",
   "metadata": {
    "tags": []
   },
   "outputs": [],
   "source": [
    "benign_contracts = get_benign_contracts()\n",
    "benign_contracts['malicious'] = False"
   ]
  },
  {
   "cell_type": "code",
   "execution_count": null,
   "id": "2e5af9c0-f1cb-4f9b-980c-f283ee5955a7",
   "metadata": {},
   "outputs": [],
   "source": [
    "dataset = pd.concat([malicious_contracts, benign_contracts])"
   ]
  },
  {
   "cell_type": "code",
   "execution_count": null,
   "id": "ae55d525-60f5-4950-a618-52f207e92bcb",
   "metadata": {},
   "outputs": [],
   "source": [
    "dataset = dataset[(dataset['decompiled_opcodes'].notna()) & (dataset['decompiled_opcodes'] != '')]\n",
    "dataset.drop_duplicates('contract_address', inplace=True)"
   ]
  },
  {
   "cell_type": "code",
   "execution_count": null,
   "id": "b8543d1a-7357-4d6d-b04f-545fcaad1077",
   "metadata": {},
   "outputs": [],
   "source": [
    "dataset['malicious'].value_counts()"
   ]
  },
  {
   "cell_type": "code",
   "execution_count": null,
   "id": "c0e1aa2c-2ac2-44ff-9555-db44d2b89212",
   "metadata": {},
   "outputs": [],
   "source": [
    "dataset.fillna('').to_parquet('/data/forta/ethereum/text/pretraining/raw/verified/verified-smart-contracts.parquet', index=None)"
   ]
  },
  {
   "cell_type": "code",
   "execution_count": null,
   "id": "95e97dd0-067d-4c5b-af24-962e3557f764",
   "metadata": {},
   "outputs": [],
   "source": [
    "dataset['malicious'].value_counts().plot(kind='pie', figsize=(7, 7))"
   ]
  },
  {
   "cell_type": "code",
   "execution_count": null,
   "id": "190d2967-93d9-4ecc-910d-77a29a40a340",
   "metadata": {},
   "outputs": [],
   "source": []
  }
 ],
 "metadata": {
  "kernelspec": {
   "display_name": "Python 3 (ipykernel)",
   "language": "python",
   "name": "python3"
  },
  "language_info": {
   "codemirror_mode": {
    "name": "ipython",
    "version": 3
   },
   "file_extension": ".py",
   "mimetype": "text/x-python",
   "name": "python",
   "nbconvert_exporter": "python",
   "pygments_lexer": "ipython3",
   "version": "3.9.18"
  }
 },
 "nbformat": 4,
 "nbformat_minor": 5
}
