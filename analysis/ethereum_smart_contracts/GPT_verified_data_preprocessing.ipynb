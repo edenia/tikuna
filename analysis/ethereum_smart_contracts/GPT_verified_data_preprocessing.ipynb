{
 "cells": [
  {
   "cell_type": "code",
   "execution_count": null,
   "id": "05322c8e-75ea-4e7f-a87a-fd1e4fb81bb0",
   "metadata": {},
   "outputs": [],
   "source": [
    "import os\n",
    "import re\n",
    "import tiktoken\n",
    "\n",
    "import pandas as pd\n",
    "import numpy as np\n",
    "\n",
    "from sklearn.feature_extraction.text import TfidfVectorizer\n",
    "from sklearn.metrics import classification_report\n",
    "from sklearn.pipeline import Pipeline\n",
    "from sklearn.model_selection import GridSearchCV\n",
    "from sklearn.linear_model import SGDClassifier\n",
    "from sklearn.model_selection import train_test_split"
   ]
  },
  {
   "cell_type": "code",
   "execution_count": null,
   "id": "db906716-1c88-4fb6-b31b-6c1b8150cd99",
   "metadata": {},
   "outputs": [],
   "source": [
    "import sklearn\n",
    "print(sklearn.__version__)"
   ]
  },
  {
   "cell_type": "code",
   "execution_count": null,
   "id": "207fafbd-f345-42c8-a009-3df1e7c7e817",
   "metadata": {},
   "outputs": [],
   "source": [
    "COLS = ['contract_creator', 'contract_address', 'contract_name', 'decompiled_opcodes', 'malicious']\n",
    "pretraining_data = pd.read_parquet('/data/forta/ethereum/text/pretraining/raw/verified/verified-smart-contracts.parquet', columns=COLS)\n",
    "# Is anomaly detection?\n",
    "anomaly_detection_training = False\n",
    "only_evaluation = True"
   ]
  },
  {
   "cell_type": "code",
   "execution_count": null,
   "id": "984692e4-1a1d-4019-a81e-465f9c6dee06",
   "metadata": {},
   "outputs": [],
   "source": [
    "count = pretraining_data['malicious'].value_counts()\n",
    "number_normal = count.iloc[0]\n",
    "number_malicious = count.iloc[1]"
   ]
  },
  {
   "cell_type": "code",
   "execution_count": null,
   "id": "25de7beb-1de1-4101-8ff1-fa9748016597",
   "metadata": {},
   "outputs": [],
   "source": [
    "pretraining_data.columns"
   ]
  },
  {
   "cell_type": "code",
   "execution_count": null,
   "id": "77d37ada-03ce-46a0-8ced-cfce09fcd886",
   "metadata": {},
   "outputs": [],
   "source": [
    "def get_exp_2_features(row):\n",
    "    creator = row['contract_creator']\n",
    "    opcodes = row['decompiled_opcodes'].split()\n",
    "    mask = '0xffffffffffffffffffffffffffffffffffffffff'\n",
    "    features = []\n",
    "    for i in range(len(opcodes)-1):\n",
    "        first = opcodes[i]\n",
    "        second = opcodes[i+1]\n",
    "        if not first.startswith('0x'):\n",
    "            token = first\n",
    "            if first.startswith('UNKNOWN') or first.startswith('INVALID'):\n",
    "                token = first.split('_')[0]\n",
    "            features.append(token)\n",
    "        elif first == 'PUSH4':\n",
    "            features.append(second)\n",
    "        elif first == 'PUSH20':\n",
    "            if second == creator:\n",
    "                features.append('creator')\n",
    "            elif second == mask:\n",
    "                features.append(mask)\n",
    "            else:\n",
    "                features.append('address')\n",
    "        elif first == 'PUSH32':\n",
    "            features.append(second)\n",
    "    return \" \".join(features)"
   ]
  },
  {
   "cell_type": "code",
   "execution_count": null,
   "id": "5266b0b7-dde8-4e1b-b2da-789399fcf69f",
   "metadata": {},
   "outputs": [],
   "source": [
    "# Prepare data for pretraining phase\n",
    "# First clean and process the opcode data\n",
    "pretraining_data['experiment_2_opcodes'] = pretraining_data.apply(get_exp_2_features, axis=1)\n",
    "training_data = None\n",
    "validation_data = None\n",
    "normal_data = None\n",
    "malicious_data = None\n",
    "\n",
    "# Files to store the data\n",
    "train_file_path = '/data/forta/ethereum/text/pretraining/small_pretraining_train.csv'\n",
    "val_file_path = '/data/forta/ethereum/text/pretraining/small_pretraining_val.csv'\n",
    "\n",
    "if only_evaluation: \n",
    "    evaluation_file_path = \"/data/forta/ethereum/text/evaluation/malicious-eval.csv\"\n",
    "    pretraining_data.loc[pretraining_data['malicious'] == True]['experiment_2_opcodes'].to_csv(\n",
    "        evaluation_file_path, sep=',', index=False)\n",
    "elif not anomaly_detection_training:\n",
    "    percentaje_normal = number_normal - (number_normal*0.1)\n",
    "    percentaje_malicious = number_malicious - (number_malicious*0.1)\n",
    "    # Suffle normal and malicious data if no anomaly detection\n",
    "    normal_data = pretraining_data.loc[pretraining_data['malicious'] == False]\n",
    "    malicious_data = pretraining_data.loc[pretraining_data['malicious'] == True]\n",
    "\n",
    "    normal_data = normal_data.sample(frac = 1)\n",
    "    malicious_data = malicious_data.sample(frac = 1)\n",
    "\n",
    "    training_data = pd.concat([normal_data[:percentaje_normal-1], malicious_data[:percentaje_malicious-1]])\n",
    "    validation_data = pd.concat([normal_data[percentaje_normal:], malicious_data[percentaje_malicious:]])\n",
    "    \n",
    "    training_data = training_data.sample(frac = 1)\n",
    "    validation_data = validation_data.sample(frac = 1)\n",
    "else:\n",
    "    # If anomaly detection only train with normal data\n",
    "    normal_data = pretraining_data.loc[pretraining_data['malicious'] == False]\n",
    "    malicious_data = pretraining_data.loc[pretraining_data['malicious'] == True]\n",
    "    normal_data = normal_data.sample(frac = 1)\n",
    "    malicious_data = malicious_data.sample(frac = 1)\n",
    "    training_data = normal_data[:number_normal]\n",
    "    validation_data = malicious_data"
   ]
  },
  {
   "cell_type": "code",
   "execution_count": null,
   "id": "a1b33a09-eaf4-4ba5-822e-37653bbbc6d0",
   "metadata": {},
   "outputs": [],
   "source": [
    "if training_data is not None and validation_data is not None:\n",
    "    # Save the data to disk\n",
    "    training_data['experiment_2_opcodes'].to_csv(train_file_path, sep='\\t', index=False)\n",
    "    validation_data['experiment_2_opcodes'].to_csv(val_file_path, sep='\\t', index=False)\n",
    "    if not anomaly_detection_training:\n",
    "        # Prepare data for anomaly data selection phase\n",
    "        # Training\n",
    "        training_data.loc[training_data['malicious'] == False].to_csv('/data/forta/ethereum/text/pretraining/training/normal/normal.csv',\n",
    "                                                columns=['experiment_2_opcodes'], sep='\\t', index=False)\n",
    "        training_data.loc[training_data['malicious'] == True].to_csv('/data/forta/ethereum/text/pretraining/training/malicious/malicious.csv',\n",
    "                                                columns=['experiment_2_opcodes'], sep='\\t', index=False)\n",
    "        \n",
    "        # Validation\n",
    "        validation_data.loc[validation_data['malicious'] == False].to_csv('/data/forta/ethereum/text/pretraining/validation/normal/normal.csv',\n",
    "                                                columns=['experiment_2_opcodes'], sep='\\t', index=False)\n",
    "        validation_data.loc[validation_data['malicious'] == True].to_csv('/data/forta/ethereum/text/pretraining/validation/malicious/malicious.csv',\n",
    "                                                columns=['experiment_2_opcodes'], sep='\\t', index=False)"
   ]
  },
  {
   "cell_type": "code",
   "execution_count": null,
   "id": "45daafe2-4110-49ad-8628-4eaf1ba49171",
   "metadata": {},
   "outputs": [],
   "source": []
  }
 ],
 "metadata": {
  "kernelspec": {
   "display_name": "Python 3 (ipykernel)",
   "language": "python",
   "name": "python3"
  },
  "language_info": {
   "codemirror_mode": {
    "name": "ipython",
    "version": 3
   },
   "file_extension": ".py",
   "mimetype": "text/x-python",
   "name": "python",
   "nbconvert_exporter": "python",
   "pygments_lexer": "ipython3",
   "version": "3.9.18"
  }
 },
 "nbformat": 4,
 "nbformat_minor": 5
}
