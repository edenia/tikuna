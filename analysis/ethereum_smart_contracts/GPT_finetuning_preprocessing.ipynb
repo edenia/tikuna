{
 "cells": [
  {
   "cell_type": "code",
   "execution_count": null,
   "id": "05322c8e-75ea-4e7f-a87a-fd1e4fb81bb0",
   "metadata": {},
   "outputs": [],
   "source": [
    "import os\n",
    "import re\n",
    "import tiktoken\n",
    "\n",
    "import pandas as pd\n",
    "import numpy as np\n",
    "\n",
    "from sklearn.feature_extraction.text import TfidfVectorizer\n",
    "from sklearn.metrics import classification_report\n",
    "from sklearn.pipeline import Pipeline\n",
    "from sklearn.model_selection import GridSearchCV\n",
    "from sklearn.linear_model import SGDClassifier\n",
    "from sklearn.model_selection import train_test_split"
   ]
  },
  {
   "cell_type": "code",
   "execution_count": null,
   "id": "db906716-1c88-4fb6-b31b-6c1b8150cd99",
   "metadata": {},
   "outputs": [],
   "source": [
    "import sklearn\n",
    "print(sklearn.__version__)"
   ]
  },
  {
   "cell_type": "code",
   "execution_count": null,
   "id": "207fafbd-f345-42c8-a009-3df1e7c7e817",
   "metadata": {},
   "outputs": [],
   "source": [
    "COLS = ['contract_creator', 'contract_address', 'contract_name', 'decompiled_opcodes', 'malicious']\n",
    "pretraining_data = pd.read_parquet('/data/forta/ethereum/text/pretraining/malicious_contract_training_dataset_final.parquet', columns=COLS)"
   ]
  },
  {
   "cell_type": "code",
   "execution_count": null,
   "id": "984692e4-1a1d-4019-a81e-465f9c6dee06",
   "metadata": {},
   "outputs": [],
   "source": [
    "pretraining_data['malicious'].value_counts()"
   ]
  },
  {
   "cell_type": "code",
   "execution_count": null,
   "id": "25de7beb-1de1-4101-8ff1-fa9748016597",
   "metadata": {},
   "outputs": [],
   "source": [
    "pretraining_data.columns"
   ]
  },
  {
   "cell_type": "code",
   "execution_count": null,
   "id": "77d37ada-03ce-46a0-8ced-cfce09fcd886",
   "metadata": {},
   "outputs": [],
   "source": [
    "def get_exp_2_features(row):\n",
    "    creator = row['contract_creator']\n",
    "    opcodes = row['decompiled_opcodes'].split()\n",
    "    mask = '0xffffffffffffffffffffffffffffffffffffffff'\n",
    "    features = []\n",
    "    for i in range(len(opcodes)-1):\n",
    "        first = opcodes[i]\n",
    "        second = opcodes[i+1]\n",
    "        if not first.startswith('0x'):\n",
    "            token = first\n",
    "            if first.startswith('UNKNOWN') or first.startswith('INVALID'):\n",
    "                token = first.split('_')[0]\n",
    "            features.append(token)\n",
    "        elif first == 'PUSH4':\n",
    "            features.append(second)\n",
    "        elif first == 'PUSH20':\n",
    "            if second == creator:\n",
    "                features.append('creator')\n",
    "            elif second == mask:\n",
    "                features.append(mask)\n",
    "            else:\n",
    "                features.append('address')\n",
    "        elif first == 'PUSH32':\n",
    "            features.append(second)\n",
    "    return \" \".join(features)"
   ]
  },
  {
   "cell_type": "code",
   "execution_count": null,
   "id": "5266b0b7-dde8-4e1b-b2da-789399fcf69f",
   "metadata": {},
   "outputs": [],
   "source": [
    "# Prepare data for pretraining phase\n",
    "# First clean and process the opcode data\n",
    "pretraining_data['experiment_2_opcodes'] = pretraining_data.apply(get_exp_2_features, axis=1)\n",
    "\n",
    "# Files to store the data\n",
    "train_file_path = '/data/forta/ethereum/text/pretraining/small_pretraining_train.txt'\n",
    "val_file_path = '/data/forta/ethereum/text/pretraining/small_pretraining_val.txt'\n",
    "\n",
    "# Suffle data\n",
    "pretraining_data = pd.concat([pretraining_data[:499], pretraining_data[5000:]])\n",
    "pretraining_data = pretraining_data.sample(frac = 1)\n",
    "\n",
    "# Save the data to disk\n",
    "training_data = pretraining_data[:499]\n",
    "validation_data = pretraining_data[500:]\n",
    "training_data['experiment_2_opcodes'].to_csv(train_file_path, sep='\\t', index=False)\n",
    "validation_data['experiment_2_opcodes'].to_csv(val_file_path, sep='\\t', index=False)"
   ]
  },
  {
   "cell_type": "code",
   "execution_count": null,
   "id": "a1b33a09-eaf4-4ba5-822e-37653bbbc6d0",
   "metadata": {},
   "outputs": [],
   "source": [
    "# Prepare data for finetuning phase\n",
    "# Training\n",
    "training_data.loc[training_data['malicious'] == False].to_csv('/data/forta/ethereum/text/finetuning/training/normal/normal.txt',\n",
    "                                        columns=['experiment_2_opcodes'], sep='\\t', index=False)\n",
    "training_data.loc[training_data['malicious'] == True].to_csv('/data/forta/ethereum/text/finetuning/training/malicious/malicious.txt',\n",
    "                                        columns=['experiment_2_opcodes'], sep='\\t', index=False)\n",
    "\n",
    "# Validation\n",
    "validation_data.loc[validation_data['malicious'] == False].to_csv('/data/forta/ethereum/text/finetuning/validation/normal/normal.txt',\n",
    "                                        columns=['experiment_2_opcodes'], sep='\\t', index=False)\n",
    "validation_data.loc[validation_data['malicious'] == True].to_csv('/data/forta/ethereum/text/finetuning/validation/malicious/malicious.txt',\n",
    "                                        columns=['experiment_2_opcodes'], sep='\\t', index=False)"
   ]
  }
 ],
 "metadata": {
  "kernelspec": {
   "display_name": "Python 3 (ipykernel)",
   "language": "python",
   "name": "python3"
  },
  "language_info": {
   "codemirror_mode": {
    "name": "ipython",
    "version": 3
   },
   "file_extension": ".py",
   "mimetype": "text/x-python",
   "name": "python",
   "nbconvert_exporter": "python",
   "pygments_lexer": "ipython3",
   "version": "3.9.18"
  }
 },
 "nbformat": 4,
 "nbformat_minor": 5
}
